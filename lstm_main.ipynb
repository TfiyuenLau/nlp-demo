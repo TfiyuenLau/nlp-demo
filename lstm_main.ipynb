{
 "cells": [
  {
   "cell_type": "markdown",
   "metadata": {
    "id": "ZfCN7PLNNECz"
   },
   "source": [
    "# 手动实现经典NLP模型算法——LSTM"
   ]
  },
  {
   "cell_type": "code",
   "execution_count": null,
   "metadata": {
    "executionInfo": {
     "elapsed": 1480,
     "status": "ok",
     "timestamp": 1759227546536,
     "user": {
      "displayName": "Tfiyuen Lau",
      "userId": "00570328620769717926"
     },
     "user_tz": -480
    },
    "id": "_r9skNvU8WoT"
   },
   "outputs": [],
   "source": [
    "from dataset.ptb import load_data\n",
    "from lstm.gated_rnnlm import GatedRnnlm\n",
    "from common.optimizer import SGD\n",
    "from common.utils import RnnlmTrainer, eval_perplexity"
   ]
  },
  {
   "cell_type": "markdown",
   "metadata": {
    "id": "rmIMvzrTPUiL"
   },
   "source": [
    "## Ⅰ、加载PTB语料数据集"
   ]
  },
  {
   "cell_type": "code",
   "execution_count": null,
   "metadata": {
    "colab": {
     "base_uri": "https://localhost:8080/",
     "height": 35
    },
    "executionInfo": {
     "elapsed": 254,
     "status": "ok",
     "timestamp": 1759227546799,
     "user": {
      "displayName": "Tfiyuen Lau",
      "userId": "00570328620769717926"
     },
     "user_tz": -480
    },
    "id": "4CP3R-hh0SrL",
    "outputId": "8eaf2863-63a2-423d-ef0e-575d36234a35"
   },
   "outputs": [],
   "source": [
    "corpus, word_to_id, id_to_word = load_data(\"train\")\n",
    "corpus_val, _, _ = load_data('val')\n",
    "corpus_test, _, _ = load_data('test')\n",
    "corpus_size = len(corpus)\n",
    "vocab_size = int(max(corpus) + 1)\n",
    "\n",
    "xs = corpus[:-1]\n",
    "ts = corpus[1:]\n",
    "data_size = len(xs)\n",
    "'corpus size: %d, vocabulary size: %d' % (corpus_size, vocab_size)"
   ]
  },
  {
   "cell_type": "markdown",
   "metadata": {
    "id": "2OX1l8YrcoOH"
   },
   "source": [
    "## Ⅱ、创建LSTM语言模型"
   ]
  },
  {
   "cell_type": "code",
   "execution_count": null,
   "metadata": {
    "executionInfo": {
     "elapsed": 2,
     "status": "ok",
     "timestamp": 1759227546802,
     "user": {
      "displayName": "Tfiyuen Lau",
      "userId": "00570328620769717926"
     },
     "user_tz": -480
    },
    "id": "VNUHwMNYbyeJ"
   },
   "outputs": [],
   "source": [
    "# 定义超参数\n",
    "batch_size = 20\n",
    "wordvec_size = 650\n",
    "hidden_size = 650\n",
    "time_size = 35\n",
    "lr = 5.0\n",
    "max_epoch = 40\n",
    "max_grad = 0.25\n",
    "dropout = 0.5"
   ]
  },
  {
   "cell_type": "code",
   "execution_count": null,
   "metadata": {
    "executionInfo": {
     "elapsed": 1064,
     "status": "ok",
     "timestamp": 1759227547873,
     "user": {
      "displayName": "Tfiyuen Lau",
      "userId": "00570328620769717926"
     },
     "user_tz": -480
    },
    "id": "aG2fVClIdB4G"
   },
   "outputs": [],
   "source": [
    "# 定义模型\n",
    "model = GatedRnnlm(vocab_size, wordvec_size, hidden_size)\n",
    "optimizer = SGD(lr)\n",
    "trainer = RnnlmTrainer(model, optimizer)"
   ]
  },
  {
   "cell_type": "markdown",
   "metadata": {
    "id": "mRaIXCs7DvHB"
   },
   "source": [
    "## Ⅲ、模型训练"
   ]
  },
  {
   "cell_type": "code",
   "execution_count": null,
   "metadata": {
    "colab": {
     "base_uri": "https://localhost:8080/",
     "height": 388
    },
    "executionInfo": {
     "elapsed": 46666,
     "status": "error",
     "timestamp": 1759227594541,
     "user": {
      "displayName": "Tfiyuen Lau",
      "userId": "00570328620769717926"
     },
     "user_tz": -480
    },
    "id": "LX6E3X_PdWG6",
    "outputId": "1289a326-5073-42f9-f376-86a291f40b76"
   },
   "outputs": [],
   "source": [
    "best_ppl = float('inf')\n",
    "for epoch in range(max_epoch):\n",
    "  trainer.fit(xs, ts, max_epoch=1, batch_size=batch_size, time_size=time_size, max_grad=max_grad)\n",
    "\n",
    "  model.reset_state()\n",
    "  ppl = eval_perplexity(model, corpus_val)\n",
    "  print('valid perplexity: ', ppl)\n",
    "\n",
    "  if best_ppl > ppl:\n",
    "    best_ppl = ppl\n",
    "    model.save_params()\n",
    "  else:\n",
    "    lr /= 4.0\n",
    "    optimizer.lr = lr\n",
    "\n",
    "  model.reset_state()\n",
    "  print('-' * 50)"
   ]
  },
  {
   "cell_type": "markdown",
   "metadata": {
    "id": "HWS64Uw7UsVf"
   },
   "source": [
    "## Ⅳ、模型评估"
   ]
  },
  {
   "cell_type": "code",
   "execution_count": null,
   "metadata": {
    "executionInfo": {
     "elapsed": 3,
     "status": "aborted",
     "timestamp": 1759227594566,
     "user": {
      "displayName": "Tfiyuen Lau",
      "userId": "00570328620769717926"
     },
     "user_tz": -480
    },
    "id": "lZ9dptXCl6j3"
   },
   "outputs": [],
   "source": [
    "model.reset_state()\n",
    "model.load_params(\"GatedRnnlm.pkl\")\n",
    "ppl_test = eval_perplexity(model, corpus_test)\n",
    "print('test perplexity: ', ppl_test)"
   ]
  },
  {
   "cell_type": "code",
   "execution_count": null,
   "metadata": {
    "executionInfo": {
     "elapsed": 7,
     "status": "aborted",
     "timestamp": 1759227594571,
     "user": {
      "displayName": "Tfiyuen Lau",
      "userId": "00570328620769717926"
     },
     "user_tz": -480
    },
    "id": "BwIBV_kx1_Pu"
   },
   "outputs": [],
   "source": []
  }
 ],
 "metadata": {
  "colab": {
   "authorship_tag": "ABX9TyMPxC5wwxP+ODdOko3LGkjN",
   "mount_file_id": "1n6wkRiWCBjLAzIrArq8mVmqGAQeDNNeK",
   "provenance": []
  },
  "kernelspec": {
   "display_name": "Python 3",
   "name": "python3"
  },
  "language_info": {
   "name": "python"
  }
 },
 "nbformat": 4,
 "nbformat_minor": 0
}
