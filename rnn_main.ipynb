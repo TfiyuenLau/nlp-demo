{
 "cells": [
  {
   "cell_type": "markdown",
   "metadata": {
    "id": "ZfCN7PLNNECz"
   },
   "source": [
    "# 手动实现经典NLP模型算法——RNN"
   ]
  },
  {
   "cell_type": "code",
   "execution_count": null,
   "metadata": {
    "executionInfo": {
     "elapsed": 5614,
     "status": "ok",
     "timestamp": 1759227795332,
     "user": {
      "displayName": "Tfiyuen Lau",
      "userId": "00570328620769717926"
     },
     "user_tz": -480
    },
    "id": "_r9skNvU8WoT"
   },
   "outputs": [],
   "source": [
    "import numpy as np\n",
    "import matplotlib.pyplot as plt\n",
    "from dataset.ptb import load_data\n",
    "from rnn.simple_rnnlm import SimpleRnnlm\n",
    "from common.optimizer import SGD"
   ]
  },
  {
   "cell_type": "markdown",
   "metadata": {
    "id": "rmIMvzrTPUiL"
   },
   "source": [
    "## Ⅰ、加载PTB语料数据集"
   ]
  },
  {
   "cell_type": "code",
   "execution_count": 3,
   "metadata": {
    "colab": {
     "base_uri": "https://localhost:8080/",
     "height": 35
    },
    "executionInfo": {
     "elapsed": 1268,
     "status": "ok",
     "timestamp": 1759227796602,
     "user": {
      "displayName": "Tfiyuen Lau",
      "userId": "00570328620769717926"
     },
     "user_tz": -480
    },
    "id": "4CP3R-hh0SrL",
    "outputId": "c5cb0b9f-a8ce-4c8c-8ddb-6c48158677f0"
   },
   "outputs": [
    {
     "data": {
      "application/vnd.google.colaboratory.intrinsic+json": {
       "type": "string"
      },
      "text/plain": [
       "'corpus size: 1000, vocabulary size: 418'"
      ]
     },
     "execution_count": 3,
     "metadata": {},
     "output_type": "execute_result"
    }
   ],
   "source": [
    "corpus, word_to_id, id_to_word = load_data(\"train\")\n",
    "corpus_size = 1000  # 仅加载前1000单词\n",
    "corpus = corpus[:corpus_size]\n",
    "vocab_size = int(max(corpus) + 1)\n",
    "\n",
    "xs = corpus[:-1]\n",
    "ts = corpus[1:]\n",
    "data_size = len(xs)\n",
    "'corpus size: %d, vocabulary size: %d' % (corpus_size, vocab_size)"
   ]
  },
  {
   "cell_type": "markdown",
   "metadata": {
    "id": "2OX1l8YrcoOH"
   },
   "source": [
    "## Ⅱ、创建RNN语言模型"
   ]
  },
  {
   "cell_type": "code",
   "execution_count": 4,
   "metadata": {
    "executionInfo": {
     "elapsed": 1,
     "status": "ok",
     "timestamp": 1759227796606,
     "user": {
      "displayName": "Tfiyuen Lau",
      "userId": "00570328620769717926"
     },
     "user_tz": -480
    },
    "id": "VNUHwMNYbyeJ"
   },
   "outputs": [],
   "source": [
    "# 定义超参数\n",
    "batch_size = 10\n",
    "wordvec_size = 100\n",
    "hidden_size = 100\n",
    "time_size = 5  # Truncated BPTT的时间步大小\n",
    "lr = 0.1\n",
    "max_epoch = 100"
   ]
  },
  {
   "cell_type": "code",
   "execution_count": 5,
   "metadata": {
    "executionInfo": {
     "elapsed": 14,
     "status": "ok",
     "timestamp": 1759227796622,
     "user": {
      "displayName": "Tfiyuen Lau",
      "userId": "00570328620769717926"
     },
     "user_tz": -480
    },
    "id": "N75aADHcc58b"
   },
   "outputs": [],
   "source": [
    "# 训练过程中的参数\n",
    "max_iters = data_size // (batch_size * time_size)\n",
    "time_idx = 0\n",
    "total_loss = 0\n",
    "loss_count = 0\n",
    "ppl_list = []"
   ]
  },
  {
   "cell_type": "code",
   "execution_count": 6,
   "metadata": {
    "executionInfo": {
     "elapsed": 14,
     "status": "ok",
     "timestamp": 1759227796639,
     "user": {
      "displayName": "Tfiyuen Lau",
      "userId": "00570328620769717926"
     },
     "user_tz": -480
    },
    "id": "aG2fVClIdB4G"
   },
   "outputs": [],
   "source": [
    "# 定义模型\n",
    "model = SimpleRnnlm(vocab_size, wordvec_size, hidden_size)\n",
    "optimizer = SGD(lr)"
   ]
  },
  {
   "cell_type": "markdown",
   "metadata": {
    "id": "mRaIXCs7DvHB"
   },
   "source": [
    "## Ⅲ、模型训练"
   ]
  },
  {
   "cell_type": "code",
   "execution_count": 7,
   "metadata": {
    "executionInfo": {
     "elapsed": 2,
     "status": "ok",
     "timestamp": 1759227796643,
     "user": {
      "displayName": "Tfiyuen Lau",
      "userId": "00570328620769717926"
     },
     "user_tz": -480
    },
    "id": "KPRfS2lxdGf1"
   },
   "outputs": [],
   "source": [
    "# 计算读入 mini-batch 的各笔样本数据的开始位置\n",
    "jump = (corpus_size - 1) // batch_size\n",
    "offsets = [i * jump for i in range(batch_size)]"
   ]
  },
  {
   "cell_type": "code",
   "execution_count": 8,
   "metadata": {
    "colab": {
     "base_uri": "https://localhost:8080/"
    },
    "collapsed": true,
    "executionInfo": {
     "elapsed": 18639,
     "status": "ok",
     "timestamp": 1759227815285,
     "user": {
      "displayName": "Tfiyuen Lau",
      "userId": "00570328620769717926"
     },
     "user_tz": -480
    },
    "id": "LX6E3X_PdWG6",
    "outputId": "a177bf83-575c-49f8-aa7d-3eb6c116298f"
   },
   "outputs": [
    {
     "name": "stderr",
     "output_type": "stream",
     "text": [
      "/content/drive/MyDrive/nlp_demo/rnn/rnn_layers.py:72: ComplexWarning: Casting complex values to real discards the imaginary part\n",
      "  hs[:, t, :] = self.h\n",
      "/content/drive/MyDrive/nlp_demo/rnn/rnn_layers.py:34: ComplexWarning: Casting complex values to real discards the imaginary part\n",
      "  self.grads[0][...] = dWx\n",
      "/content/drive/MyDrive/nlp_demo/rnn/rnn_layers.py:35: ComplexWarning: Casting complex values to real discards the imaginary part\n",
      "  self.grads[1][...] = dWh\n",
      "/content/drive/MyDrive/nlp_demo/rnn/rnn_layers.py:36: ComplexWarning: Casting complex values to real discards the imaginary part\n",
      "  self.grads[2][...] = db\n",
      "/content/drive/MyDrive/nlp_demo/rnn/rnn_layers.py:89: ComplexWarning: Casting complex values to real discards the imaginary part\n",
      "  dxs[: ,t, :] = dx\n"
     ]
    },
    {
     "name": "stdout",
     "output_type": "stream",
     "text": [
      "| epoch 1 | perplexity 381.64\n",
      "| epoch 2 | perplexity 255.45\n",
      "| epoch 3 | perplexity 221.71\n",
      "| epoch 4 | perplexity 214.75\n",
      "| epoch 5 | perplexity 205.52\n",
      "| epoch 6 | perplexity 201.57\n",
      "| epoch 7 | perplexity 198.54\n",
      "| epoch 8 | perplexity 195.63\n",
      "| epoch 9 | perplexity 191.14\n",
      "| epoch 10 | perplexity 192.64\n",
      "| epoch 11 | perplexity 188.41\n",
      "| epoch 12 | perplexity 192.34\n",
      "| epoch 13 | perplexity 190.29\n",
      "| epoch 14 | perplexity 190.21\n",
      "| epoch 15 | perplexity 189.34\n",
      "| epoch 16 | perplexity 185.93\n",
      "| epoch 17 | perplexity 183.70\n",
      "| epoch 18 | perplexity 180.16\n",
      "| epoch 19 | perplexity 181.10\n",
      "| epoch 20 | perplexity 182.26\n",
      "| epoch 21 | perplexity 180.56\n",
      "| epoch 22 | perplexity 176.93\n",
      "| epoch 23 | perplexity 172.64\n",
      "| epoch 24 | perplexity 173.57\n",
      "| epoch 25 | perplexity 174.62\n",
      "| epoch 26 | perplexity 174.11\n",
      "| epoch 27 | perplexity 168.25\n",
      "| epoch 28 | perplexity 164.59\n",
      "| epoch 29 | perplexity 163.24\n",
      "| epoch 30 | perplexity 157.07\n",
      "| epoch 31 | perplexity 158.56\n",
      "| epoch 32 | perplexity 153.70\n",
      "| epoch 33 | perplexity 154.62\n",
      "| epoch 34 | perplexity 146.95\n",
      "| epoch 35 | perplexity 149.05\n",
      "| epoch 36 | perplexity 141.74\n",
      "| epoch 37 | perplexity 134.88\n",
      "| epoch 38 | perplexity 131.31\n",
      "| epoch 39 | perplexity 126.45\n",
      "| epoch 40 | perplexity 122.00\n",
      "| epoch 41 | perplexity 122.43\n",
      "| epoch 42 | perplexity 113.95\n",
      "| epoch 43 | perplexity 107.57\n",
      "| epoch 44 | perplexity 105.50\n",
      "| epoch 45 | perplexity 100.40\n",
      "| epoch 46 | perplexity 98.03\n",
      "| epoch 47 | perplexity 92.05\n",
      "| epoch 48 | perplexity 87.21\n",
      "| epoch 49 | perplexity 82.38\n",
      "| epoch 50 | perplexity 78.75\n",
      "| epoch 51 | perplexity 75.39\n",
      "| epoch 52 | perplexity 71.17\n",
      "| epoch 53 | perplexity 66.75\n",
      "| epoch 54 | perplexity 64.46\n",
      "| epoch 55 | perplexity 61.49\n",
      "| epoch 56 | perplexity 56.86\n",
      "| epoch 57 | perplexity 53.87\n",
      "| epoch 58 | perplexity 50.75\n",
      "| epoch 59 | perplexity 47.51\n",
      "| epoch 60 | perplexity 45.24\n",
      "| epoch 61 | perplexity 43.54\n",
      "| epoch 62 | perplexity 40.47\n",
      "| epoch 63 | perplexity 37.49\n",
      "| epoch 64 | perplexity 35.96\n",
      "| epoch 65 | perplexity 33.67\n",
      "| epoch 66 | perplexity 31.91\n",
      "| epoch 67 | perplexity 30.13\n",
      "| epoch 68 | perplexity 26.94\n",
      "| epoch 69 | perplexity 25.83\n",
      "| epoch 70 | perplexity 24.34\n",
      "| epoch 71 | perplexity 23.16\n",
      "| epoch 72 | perplexity 21.34\n",
      "| epoch 73 | perplexity 20.21\n",
      "| epoch 74 | perplexity 19.14\n",
      "| epoch 75 | perplexity 18.79\n",
      "| epoch 76 | perplexity 16.92\n",
      "| epoch 77 | perplexity 16.05\n",
      "| epoch 78 | perplexity 15.59\n",
      "| epoch 79 | perplexity 14.15\n",
      "| epoch 80 | perplexity 13.72\n",
      "| epoch 81 | perplexity 12.65\n",
      "| epoch 82 | perplexity 12.91\n",
      "| epoch 83 | perplexity 11.67\n",
      "| epoch 84 | perplexity 11.25\n",
      "| epoch 85 | perplexity 10.98\n",
      "| epoch 86 | perplexity 10.07\n",
      "| epoch 87 | perplexity 9.75\n",
      "| epoch 88 | perplexity 8.83\n",
      "| epoch 89 | perplexity 8.73\n",
      "| epoch 90 | perplexity 7.98\n",
      "| epoch 91 | perplexity 7.83\n",
      "| epoch 92 | perplexity 7.40\n",
      "| epoch 93 | perplexity 7.17\n",
      "| epoch 94 | perplexity 6.66\n",
      "| epoch 95 | perplexity 6.14\n",
      "| epoch 96 | perplexity 6.31\n",
      "| epoch 97 | perplexity 5.66\n",
      "| epoch 98 | perplexity 5.48\n",
      "| epoch 99 | perplexity 5.28\n",
      "| epoch 100 | perplexity 5.07\n"
     ]
    }
   ],
   "source": [
    "for epoch in range(max_epoch):\n",
    "  for iter in range(max_iters):\n",
    "    batch_x = np.empty((batch_size, time_size), dtype='i')\n",
    "    batch_t = np.empty((batch_size, time_size), dtype='i')\n",
    "    for t in range(time_size):\n",
    "        for i, offset in enumerate(offsets):\n",
    "          batch_x[i, t] = xs[(offset + time_idx) % data_size]\n",
    "          batch_t[i, t] = ts[(offset + time_idx) % data_size]\n",
    "        time_idx += 1\n",
    "\n",
    "    loss = model.forward(batch_x, batch_t)\n",
    "    model.backward()\n",
    "    optimizer.update(model.params, model.grads)\n",
    "    total_loss += loss\n",
    "    loss_count += 1\n",
    "\n",
    "  # 困惑度评估\n",
    "  ppl = np.exp(total_loss / loss_count)\n",
    "  print('| epoch %d | perplexity %.2f' % (epoch+1, ppl))\n",
    "  ppl_list.append(float(ppl))\n",
    "  total_loss, loss_count = 0, 0"
   ]
  },
  {
   "cell_type": "code",
   "execution_count": 9,
   "metadata": {
    "colab": {
     "base_uri": "https://localhost:8080/",
     "height": 454
    },
    "executionInfo": {
     "elapsed": 410,
     "status": "ok",
     "timestamp": 1759227815698,
     "user": {
      "displayName": "Tfiyuen Lau",
      "userId": "00570328620769717926"
     },
     "user_tz": -480
    },
    "id": "LNs5uMvHd5Ie",
    "outputId": "f185f377-0269-4f7c-a8a5-70e8c6495716"
   },
   "outputs": [
    {
     "data": {
      "image/png": "[encoded data removed]",
      "text/plain": [
       "<Figure size 640x480 with 1 Axes>"
      ]
     },
     "metadata": {},
     "output_type": "display_data"
    }
   ],
   "source": [
    "\n",
    "# 绘制训练过程图像\n",
    "x = np.arange(len(ppl_list))\n",
    "plt.plot(x, ppl_list, label='train')\n",
    "plt.xlabel('epochs')\n",
    "plt.ylabel('perplexity')\n",
    "plt.show()"
   ]
  },
  {
   "cell_type": "code",
   "execution_count": 9,
   "metadata": {
    "executionInfo": {
     "elapsed": 2,
     "status": "ok",
     "timestamp": 1759227815702,
     "user": {
      "displayName": "Tfiyuen Lau",
      "userId": "00570328620769717926"
     },
     "user_tz": -480
    },
    "id": "lZ9dptXCl6j3"
   },
   "outputs": [],
   "source": []
  }
 ],
 "metadata": {
  "colab": {
   "authorship_tag": "ABX9TyOpjqForuoUpJoXA/qzGnD6",
   "mount_file_id": "1mXGL5GoqWqInT476HCeyzXaZYhJfseVQ",
   "provenance": []
  },
  "kernelspec": {
   "display_name": "Python 3",
   "name": "python3"
  },
  "language_info": {
   "name": "python"
  }
 },
 "nbformat": 4,
 "nbformat_minor": 0
}
